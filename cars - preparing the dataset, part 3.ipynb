{
 "cells": [
  {
   "cell_type": "code",
   "execution_count": 1,
   "metadata": {},
   "outputs": [],
   "source": [
    "import pandas as pd\n",
    "import numpy as np\n",
    "import seaborn as sns\n",
    "import matplotlib.pyplot as plt\n",
    "import json\n",
    "from datetime import datetime"
   ]
  },
  {
   "cell_type": "code",
   "execution_count": 2,
   "metadata": {},
   "outputs": [],
   "source": [
    "# loading announcements\n",
    "mazda=pd.read_json('dataset_mazda.json')"
   ]
  },
  {
   "cell_type": "markdown",
   "metadata": {},
   "source": [
    "### text cleaning to gain classification (dictionary values)"
   ]
  },
  {
   "cell_type": "code",
   "execution_count": 8,
   "metadata": {},
   "outputs": [
    {
     "data": {
      "text/html": [
       "<div>\n",
       "<style scoped>\n",
       "    .dataframe tbody tr th:only-of-type {\n",
       "        vertical-align: middle;\n",
       "    }\n",
       "\n",
       "    .dataframe tbody tr th {\n",
       "        vertical-align: top;\n",
       "    }\n",
       "\n",
       "    .dataframe thead th {\n",
       "        text-align: right;\n",
       "    }\n",
       "</style>\n",
       "<table border=\"1\" class=\"dataframe\">\n",
       "  <thead>\n",
       "    <tr style=\"text-align: right;\">\n",
       "      <th></th>\n",
       "      <th>lokalizacja</th>\n",
       "    </tr>\n",
       "  </thead>\n",
       "  <tbody>\n",
       "    <tr>\n",
       "      <th>0</th>\n",
       "      <td>Piła, pilski, Wielkopolskie</td>\n",
       "    </tr>\n",
       "    <tr>\n",
       "      <th>1</th>\n",
       "      <td>Kwidzyn, kwidzyński, Pomorskie</td>\n",
       "    </tr>\n",
       "    <tr>\n",
       "      <th>10</th>\n",
       "      <td>Aleja Krakowska 169 - 02-180 Warszawa, Włochy ...</td>\n",
       "    </tr>\n",
       "    <tr>\n",
       "      <th>100</th>\n",
       "      <td>Gdańsk, Pomorskie, Przymorze Małe</td>\n",
       "    </tr>\n",
       "    <tr>\n",
       "      <th>1000</th>\n",
       "      <td>Estrady 14 - 05-080 Klaudyn, warszawski zachod...</td>\n",
       "    </tr>\n",
       "  </tbody>\n",
       "</table>\n",
       "</div>"
      ],
      "text/plain": [
       "                                            lokalizacja\n",
       "0                           Piła, pilski, Wielkopolskie\n",
       "1                        Kwidzyn, kwidzyński, Pomorskie\n",
       "10    Aleja Krakowska 169 - 02-180 Warszawa, Włochy ...\n",
       "100                   Gdańsk, Pomorskie, Przymorze Małe\n",
       "1000  Estrady 14 - 05-080 Klaudyn, warszawski zachod..."
      ]
     },
     "execution_count": 8,
     "metadata": {},
     "output_type": "execute_result"
    }
   ],
   "source": [
    "# the column \"lokalizacja\" contains the description of the location, but it is different for each record\n",
    "mazda[['lokalizacja']].head() "
   ]
  },
  {
   "cell_type": "markdown",
   "metadata": {},
   "source": [
    "###### preparing the values (list of regions)"
   ]
  },
  {
   "cell_type": "code",
   "execution_count": 9,
   "metadata": {},
   "outputs": [],
   "source": [
    "# list\n",
    "regions = ['Dolnoslaskie', 'Kujawsko-pomorskie', 'Lubelskie', 'Lubuskie', 'Lodzkie',\n",
    "'Malopolskie', 'Mazowieckie', 'Opolskie', 'Podkarpackie', 'Podlaskie', 'Pomorskie',\n",
    "'Slaskie', 'Swietokrzyskie', 'Warminsko-mazurskie', 'Wielkopolskie', 'Zachodniopomorskie']"
   ]
  },
  {
   "cell_type": "code",
   "execution_count": 10,
   "metadata": {},
   "outputs": [],
   "source": [
    "# extra column\n",
    "mazda = mazda.assign(lokalizacja_wojewodztwo = mazda['lokalizacja']) #.str.lower())\n",
    "\n",
    "# text unification\n",
    "mazda['lokalizacja_wojewodztwo'].replace({'ś':'s'},regex=True, inplace=True)\n",
    "mazda['lokalizacja_wojewodztwo'].replace({'Ś':'S'},regex=True, inplace=True)\n",
    "mazda['lokalizacja_wojewodztwo'].replace({'ą':'a'},regex=True, inplace=True)\n",
    "mazda['lokalizacja_wojewodztwo'].replace({'ł':'l'},regex=True, inplace=True)\n",
    "mazda['lokalizacja_wojewodztwo'].replace({'Ł':'L'},regex=True, inplace=True)\n",
    "mazda['lokalizacja_wojewodztwo'].replace({'ó':'o'},regex=True, inplace=True)\n",
    "mazda['lokalizacja_wojewodztwo'].replace({'ę':'e'},regex=True, inplace=True)\n",
    "mazda['lokalizacja_wojewodztwo'].replace({'ń':'n'},regex=True, inplace=True)"
   ]
  },
  {
   "cell_type": "code",
   "execution_count": 11,
   "metadata": {},
   "outputs": [
    {
     "data": {
      "text/html": [
       "<div>\n",
       "<style scoped>\n",
       "    .dataframe tbody tr th:only-of-type {\n",
       "        vertical-align: middle;\n",
       "    }\n",
       "\n",
       "    .dataframe tbody tr th {\n",
       "        vertical-align: top;\n",
       "    }\n",
       "\n",
       "    .dataframe thead th {\n",
       "        text-align: right;\n",
       "    }\n",
       "</style>\n",
       "<table border=\"1\" class=\"dataframe\">\n",
       "  <thead>\n",
       "    <tr style=\"text-align: right;\">\n",
       "      <th></th>\n",
       "      <th>lokalizacja</th>\n",
       "      <th>lokalizacja_wojewodztwo</th>\n",
       "    </tr>\n",
       "  </thead>\n",
       "  <tbody>\n",
       "    <tr>\n",
       "      <th>0</th>\n",
       "      <td>Piła, pilski, Wielkopolskie</td>\n",
       "      <td>Pila, pilski, Wielkopolskie</td>\n",
       "    </tr>\n",
       "    <tr>\n",
       "      <th>1</th>\n",
       "      <td>Kwidzyn, kwidzyński, Pomorskie</td>\n",
       "      <td>Kwidzyn, kwidzynski, Pomorskie</td>\n",
       "    </tr>\n",
       "    <tr>\n",
       "      <th>10</th>\n",
       "      <td>Aleja Krakowska 169 - 02-180 Warszawa, Włochy ...</td>\n",
       "      <td>Aleja Krakowska 169 - 02-180 Warszawa, Wlochy ...</td>\n",
       "    </tr>\n",
       "    <tr>\n",
       "      <th>100</th>\n",
       "      <td>Gdańsk, Pomorskie, Przymorze Małe</td>\n",
       "      <td>Gdansk, Pomorskie, Przymorze Male</td>\n",
       "    </tr>\n",
       "    <tr>\n",
       "      <th>1000</th>\n",
       "      <td>Estrady 14 - 05-080 Klaudyn, warszawski zachod...</td>\n",
       "      <td>Estrady 14 - 05-080 Klaudyn, warszawski zachod...</td>\n",
       "    </tr>\n",
       "  </tbody>\n",
       "</table>\n",
       "</div>"
      ],
      "text/plain": [
       "                                            lokalizacja  \\\n",
       "0                           Piła, pilski, Wielkopolskie   \n",
       "1                        Kwidzyn, kwidzyński, Pomorskie   \n",
       "10    Aleja Krakowska 169 - 02-180 Warszawa, Włochy ...   \n",
       "100                   Gdańsk, Pomorskie, Przymorze Małe   \n",
       "1000  Estrady 14 - 05-080 Klaudyn, warszawski zachod...   \n",
       "\n",
       "                                lokalizacja_wojewodztwo  \n",
       "0                           Pila, pilski, Wielkopolskie  \n",
       "1                        Kwidzyn, kwidzynski, Pomorskie  \n",
       "10    Aleja Krakowska 169 - 02-180 Warszawa, Wlochy ...  \n",
       "100                   Gdansk, Pomorskie, Przymorze Male  \n",
       "1000  Estrady 14 - 05-080 Klaudyn, warszawski zachod...  "
      ]
     },
     "execution_count": 11,
     "metadata": {},
     "output_type": "execute_result"
    }
   ],
   "source": [
    "mazda[['lokalizacja','lokalizacja_wojewodztwo']].head()"
   ]
  },
  {
   "cell_type": "markdown",
   "metadata": {},
   "source": [
    "###### assigning uniform values"
   ]
  },
  {
   "cell_type": "code",
   "execution_count": 12,
   "metadata": {},
   "outputs": [],
   "source": [
    "# searching for a value from the list in the description\n",
    "for val in mazda['lokalizacja_wojewodztwo']:\n",
    "    for reg in regions:\n",
    "        if reg in val:\n",
    "            #mazda['lokalizacja_wojewodztwo'].loc[( mazda['lokalizacja_wojewodztwo'] == val)] = reg # also work\n",
    "            mazda['lokalizacja_wojewodztwo'].replace(val,reg, inplace=True)"
   ]
  },
  {
   "cell_type": "code",
   "execution_count": 13,
   "metadata": {},
   "outputs": [
    {
     "data": {
      "text/html": [
       "<div>\n",
       "<style scoped>\n",
       "    .dataframe tbody tr th:only-of-type {\n",
       "        vertical-align: middle;\n",
       "    }\n",
       "\n",
       "    .dataframe tbody tr th {\n",
       "        vertical-align: top;\n",
       "    }\n",
       "\n",
       "    .dataframe thead th {\n",
       "        text-align: right;\n",
       "    }\n",
       "</style>\n",
       "<table border=\"1\" class=\"dataframe\">\n",
       "  <thead>\n",
       "    <tr style=\"text-align: right;\">\n",
       "      <th></th>\n",
       "      <th>lokalizacja</th>\n",
       "      <th>lokalizacja_wojewodztwo</th>\n",
       "    </tr>\n",
       "  </thead>\n",
       "  <tbody>\n",
       "    <tr>\n",
       "      <th>0</th>\n",
       "      <td>Piła, pilski, Wielkopolskie</td>\n",
       "      <td>Wielkopolskie</td>\n",
       "    </tr>\n",
       "    <tr>\n",
       "      <th>1</th>\n",
       "      <td>Kwidzyn, kwidzyński, Pomorskie</td>\n",
       "      <td>Pomorskie</td>\n",
       "    </tr>\n",
       "    <tr>\n",
       "      <th>10</th>\n",
       "      <td>Aleja Krakowska 169 - 02-180 Warszawa, Włochy ...</td>\n",
       "      <td>Aleja Krakowska 169 - 02-180 Warszawa, Wlochy ...</td>\n",
       "    </tr>\n",
       "    <tr>\n",
       "      <th>100</th>\n",
       "      <td>Gdańsk, Pomorskie, Przymorze Małe</td>\n",
       "      <td>Pomorskie</td>\n",
       "    </tr>\n",
       "    <tr>\n",
       "      <th>1000</th>\n",
       "      <td>Estrady 14 - 05-080 Klaudyn, warszawski zachod...</td>\n",
       "      <td>Mazowieckie</td>\n",
       "    </tr>\n",
       "  </tbody>\n",
       "</table>\n",
       "</div>"
      ],
      "text/plain": [
       "                                            lokalizacja  \\\n",
       "0                           Piła, pilski, Wielkopolskie   \n",
       "1                        Kwidzyn, kwidzyński, Pomorskie   \n",
       "10    Aleja Krakowska 169 - 02-180 Warszawa, Włochy ...   \n",
       "100                   Gdańsk, Pomorskie, Przymorze Małe   \n",
       "1000  Estrady 14 - 05-080 Klaudyn, warszawski zachod...   \n",
       "\n",
       "                                lokalizacja_wojewodztwo  \n",
       "0                                         Wielkopolskie  \n",
       "1                                             Pomorskie  \n",
       "10    Aleja Krakowska 169 - 02-180 Warszawa, Wlochy ...  \n",
       "100                                           Pomorskie  \n",
       "1000                                        Mazowieckie  "
      ]
     },
     "execution_count": 13,
     "metadata": {},
     "output_type": "execute_result"
    }
   ],
   "source": [
    " mazda[['lokalizacja','lokalizacja_wojewodztwo']].head()"
   ]
  },
  {
   "cell_type": "code",
   "execution_count": 14,
   "metadata": {},
   "outputs": [],
   "source": [
    "# marking values from outside the list as \"inne\"\n",
    "mazda['lokalizacja_wojewodztwo'] = mazda['lokalizacja_wojewodztwo'].apply(lambda x: 'inne' if x not in regions else x)"
   ]
  },
  {
   "cell_type": "code",
   "execution_count": 15,
   "metadata": {},
   "outputs": [
    {
     "data": {
      "text/html": [
       "<div>\n",
       "<style scoped>\n",
       "    .dataframe tbody tr th:only-of-type {\n",
       "        vertical-align: middle;\n",
       "    }\n",
       "\n",
       "    .dataframe tbody tr th {\n",
       "        vertical-align: top;\n",
       "    }\n",
       "\n",
       "    .dataframe thead th {\n",
       "        text-align: right;\n",
       "    }\n",
       "</style>\n",
       "<table border=\"1\" class=\"dataframe\">\n",
       "  <thead>\n",
       "    <tr style=\"text-align: right;\">\n",
       "      <th></th>\n",
       "      <th>lokalizacja</th>\n",
       "      <th>lokalizacja_wojewodztwo</th>\n",
       "    </tr>\n",
       "  </thead>\n",
       "  <tbody>\n",
       "    <tr>\n",
       "      <th>0</th>\n",
       "      <td>Piła, pilski, Wielkopolskie</td>\n",
       "      <td>Wielkopolskie</td>\n",
       "    </tr>\n",
       "    <tr>\n",
       "      <th>1</th>\n",
       "      <td>Kwidzyn, kwidzyński, Pomorskie</td>\n",
       "      <td>Pomorskie</td>\n",
       "    </tr>\n",
       "    <tr>\n",
       "      <th>10</th>\n",
       "      <td>Aleja Krakowska 169 - 02-180 Warszawa, Włochy ...</td>\n",
       "      <td>inne</td>\n",
       "    </tr>\n",
       "    <tr>\n",
       "      <th>100</th>\n",
       "      <td>Gdańsk, Pomorskie, Przymorze Małe</td>\n",
       "      <td>Pomorskie</td>\n",
       "    </tr>\n",
       "    <tr>\n",
       "      <th>1000</th>\n",
       "      <td>Estrady 14 - 05-080 Klaudyn, warszawski zachod...</td>\n",
       "      <td>Mazowieckie</td>\n",
       "    </tr>\n",
       "  </tbody>\n",
       "</table>\n",
       "</div>"
      ],
      "text/plain": [
       "                                            lokalizacja  \\\n",
       "0                           Piła, pilski, Wielkopolskie   \n",
       "1                        Kwidzyn, kwidzyński, Pomorskie   \n",
       "10    Aleja Krakowska 169 - 02-180 Warszawa, Włochy ...   \n",
       "100                   Gdańsk, Pomorskie, Przymorze Małe   \n",
       "1000  Estrady 14 - 05-080 Klaudyn, warszawski zachod...   \n",
       "\n",
       "     lokalizacja_wojewodztwo  \n",
       "0              Wielkopolskie  \n",
       "1                  Pomorskie  \n",
       "10                      inne  \n",
       "100                Pomorskie  \n",
       "1000             Mazowieckie  "
      ]
     },
     "execution_count": 15,
     "metadata": {},
     "output_type": "execute_result"
    }
   ],
   "source": [
    " mazda[['lokalizacja','lokalizacja_wojewodztwo']].head()"
   ]
  },
  {
   "cell_type": "code",
   "execution_count": 16,
   "metadata": {},
   "outputs": [
    {
     "data": {
      "text/plain": [
       "array(['Wielkopolskie', 'Pomorskie', 'inne', 'Mazowieckie',\n",
       "       'Swietokrzyskie', 'Malopolskie', 'Lodzkie', 'Lubelskie', 'Slaskie',\n",
       "       'Opolskie', 'Kujawsko-pomorskie', 'Warminsko-mazurskie',\n",
       "       'Lubuskie', 'Dolnoslaskie', 'Podkarpackie', 'Zachodniopomorskie',\n",
       "       'Podlaskie'], dtype=object)"
      ]
     },
     "execution_count": 16,
     "metadata": {},
     "output_type": "execute_result"
    }
   ],
   "source": [
    " mazda['lokalizacja_wojewodztwo'].unique()"
   ]
  },
  {
   "cell_type": "code",
   "execution_count": 17,
   "metadata": {},
   "outputs": [
    {
     "data": {
      "text/plain": [
       "lokalizacja_wojewodztwo\n",
       "Opolskie                 96\n",
       "Warminsko-mazurskie     103\n",
       "Podlaskie               124\n",
       "Zachodniopomorskie      134\n",
       "Swietokrzyskie          144\n",
       "Lubuskie                164\n",
       "Podkarpackie            170\n",
       "Lubelskie               213\n",
       "Pomorskie               240\n",
       "Kujawsko-pomorskie      242\n",
       "Lodzkie                 282\n",
       "Dolnoslaskie            350\n",
       "Malopolskie             354\n",
       "Wielkopolskie           579\n",
       "Slaskie                 627\n",
       "Mazowieckie             750\n",
       "inne                   1089\n",
       "dtype: int64"
      ]
     },
     "execution_count": 17,
     "metadata": {},
     "output_type": "execute_result"
    }
   ],
   "source": [
    "# how many \"inne\" items do we have?\n",
    "# over 1000 records has not name of region in description of location\n",
    "mazda.groupby(by=['lokalizacja_wojewodztwo']).size().sort_values()"
   ]
  },
  {
   "cell_type": "code",
   "execution_count": 18,
   "metadata": {},
   "outputs": [
    {
     "data": {
      "text/plain": [
       "10      Aleja Krakowska 169 - 02-180 Warszawa, Włochy ...\n",
       "1003    ul. Górczewska 30 - 01-147 Warszawa, Wola (Pol...\n",
       "1004      Mińska 41a - 54-610 Wrocław, Fabryczna (Polska)\n",
       "1005    ul. Górczewska 30 - 01-147 Warszawa, Wola (Pol...\n",
       "1006      Mińska 41a - 54-610 Wrocław, Fabryczna (Polska)\n",
       "1009    Sw Michała  20 - 61-023 Poznań, Nowe Miasto (P...\n",
       "1037    Gen. Stanisława Maczka 136 - 15-691 Białystok,...\n",
       "1038    DŹBOWSKA  66 - 42-202 Częstochowa, Stradom (Po...\n",
       "1040        Rosoła 55 - 02-786 Warszawa, Ursynów (Polska)\n",
       "1044    Gen. Stanisława Maczka 136 - 15-691 Białystok,...\n",
       "1045    Sw Michała  20 - 61-023 Poznań, Nowe Miasto (P...\n",
       "1046      Mińska 41a - 54-610 Wrocław, Fabryczna (Polska)\n",
       "1047      Mińska 41a - 54-610 Wrocław, Fabryczna (Polska)\n",
       "1049    Gen. Stanisława Maczka 136 - 15-691 Białystok,...\n",
       "1050    Gen. Stanisława Maczka 136 - 15-691 Białystok,...\n",
       "1051    Gen. Stanisława Maczka 136 - 15-691 Białystok,...\n",
       "1052    Gen. Stanisława Maczka 136 - 15-691 Białystok,...\n",
       "1055    ul.Jasnogórska 38 - 31-358 Kraków, Krowodrza (...\n",
       "1058    Sw Michała  20 - 61-023 Poznań, Nowe Miasto (P...\n",
       "106      Reymonta 1a - 15-868 Białystok, Centrum (Polska)\n",
       "1062    al. Krakowska 169 - 02-180 Warszawa, Włochy (P...\n",
       "1063    Gen. Stanisława Maczka 136 - 15-691 Białystok,...\n",
       "1064    Al. Jana Pawła II nr. 52, lok. 206 - 15-703 Bi...\n",
       "1065    Gen. Stanisława Maczka 136 - 15-691 Białystok,...\n",
       "1066    al. Krakowska 169 - 02-180 Warszawa, Włochy (P...\n",
       "1068        Rosoła 55 - 02-786 Warszawa, Ursynów (Polska)\n",
       "1069    Powstańców Warszawy 32 - 42-200 Częstochowa, D...\n",
       "1071    Powstańców Warszawy 32 - 42-200 Częstochowa, D...\n",
       "1072    Gen. Stanisława Maczka 136 - 15-691 Białystok,...\n",
       "1074    Gen. Stanisława Maczka 136 - 15-691 Białystok,...\n",
       "                              ...                        \n",
       "791     św. Michała 20 - 61-023 Poznań, Nowe Miasto (P...\n",
       "795     Pratulińska 18 - 03-511 Warszawa, Targówek (Po...\n",
       "802     Gen. Stanisława Maczka 136 - 15-691 Białystok,...\n",
       "806     Warszawska 311 - 43-155 Bieruń, Bieruń Nowy (P...\n",
       "844     Lotnicza 3/5 - 04-192 Warszawa, Praga-Południe...\n",
       "847     Aleja Grunwaldzka 260 - 80-314 Gdańsk, Oliwa (...\n",
       "86      Aleja Roździeńskiego 91 - 40-203 Katowice, Bog...\n",
       "874      Reymonta 1a - 15-868 Białystok, Centrum (Polska)\n",
       "882     Gen. Stanisława Maczka 136 - 15-691 Białystok,...\n",
       "897     SIEWIERSKA 197a - 42-400 Zawiercie, Kromołów (...\n",
       "906     Chwaszczyńska 178 - 81-571 Gdynia, Dąbrowa (Po...\n",
       "917        Górczewska 32 - 01-147 Warszawa, Wola (Polska)\n",
       "926        Górczewska 32 - 01-147 Warszawa, Wola (Polska)\n",
       "927     Bugajska 6/8 - 42-208 Częstochowa, Błeszno (Po...\n",
       "928     Bugajska 6/8 - 42-208 Częstochowa, Błeszno (Po...\n",
       "93             3 Maja 1 m 3 - 93-408 Łódź, Górna (Polska)\n",
       "932     Lotnicza 3/5 - 04-192 Warszawa, Praga-Południe...\n",
       "933     ul. Oceaniczna wjazd od ul. Zabłudowskiej - 15...\n",
       "94      Aleja Krakowska 169 - 02-180 Warszawa, Włochy ...\n",
       "940      Partyzantów 7 - 43-180 Orzesze, Centrum (Polska)\n",
       "949        Górczewska 32 - 01-147 Warszawa, Wola (Polska)\n",
       "962         Kościelna 41 - 60-537 Poznań, Jeżyce (Polska)\n",
       "964        Górczewska 32 - 01-147 Warszawa, Wola (Polska)\n",
       "965     Druckiego-Lubeckiego 1A - 71-656 Szczecin, Zac...\n",
       "971     Aleja Krakowska 169 - 02-180 Warszawa, Włochy ...\n",
       "972     Strażacka 63/65 - 04-462 Warszawa, Rembertów (...\n",
       "974     Malownicza 29a - 02-272 Warszawa, Włochy (Polska)\n",
       "977            Ordona 2a - 01-237 Warszawa, Wola (Polska)\n",
       "997           Łużycka 9 - 81-537 Gdynia, Redłowo (Polska)\n",
       "998             Ordona 2 - 01-237 Warszawa, Wola (Polska)\n",
       "Name: lokalizacja, Length: 1089, dtype: object"
      ]
     },
     "execution_count": 18,
     "metadata": {},
     "output_type": "execute_result"
    }
   ],
   "source": [
    "mazda['lokalizacja'][( mazda['lokalizacja_wojewodztwo'] == 'inne')]"
   ]
  },
  {
   "cell_type": "markdown",
   "metadata": {},
   "source": [
    "###### preparing the values (list of cities)"
   ]
  },
  {
   "cell_type": "code",
   "execution_count": 19,
   "metadata": {},
   "outputs": [],
   "source": [
    "# list\n",
    "city = ['Warszawa', 'Wrocław', 'Poznań', 'Częstochowa', 'Gdynia',\n",
    "'Białystok', 'Kraków', 'Szczecin', 'Katowice', 'Gdańsk', 'Łódź']"
   ]
  },
  {
   "cell_type": "code",
   "execution_count": 20,
   "metadata": {},
   "outputs": [],
   "source": [
    "# reset index because I get some error on index nr 222\n",
    "mazda = mazda.reset_index(drop=True)"
   ]
  },
  {
   "cell_type": "code",
   "execution_count": 21,
   "metadata": {},
   "outputs": [
    {
     "name": "stderr",
     "output_type": "stream",
     "text": [
      "C:\\ProgramData\\Anaconda3\\lib\\site-packages\\ipykernel_launcher.py:2: SettingWithCopyWarning: \n",
      "A value is trying to be set on a copy of a slice from a DataFrame\n",
      "\n",
      "See the caveats in the documentation: http://pandas.pydata.org/pandas-docs/stable/indexing.html#indexing-view-versus-copy\n",
      "  \n"
     ]
    }
   ],
   "source": [
    "# change \"inne\" for description of loaction\n",
    "mazda['lokalizacja_wojewodztwo'][( mazda['lokalizacja_wojewodztwo'] == 'inne')] = mazda['lokalizacja'].apply(lambda x: x)"
   ]
  },
  {
   "cell_type": "code",
   "execution_count": 22,
   "metadata": {},
   "outputs": [
    {
     "data": {
      "text/html": [
       "<div>\n",
       "<style scoped>\n",
       "    .dataframe tbody tr th:only-of-type {\n",
       "        vertical-align: middle;\n",
       "    }\n",
       "\n",
       "    .dataframe tbody tr th {\n",
       "        vertical-align: top;\n",
       "    }\n",
       "\n",
       "    .dataframe thead th {\n",
       "        text-align: right;\n",
       "    }\n",
       "</style>\n",
       "<table border=\"1\" class=\"dataframe\">\n",
       "  <thead>\n",
       "    <tr style=\"text-align: right;\">\n",
       "      <th></th>\n",
       "      <th>lokalizacja</th>\n",
       "      <th>lokalizacja_wojewodztwo</th>\n",
       "    </tr>\n",
       "  </thead>\n",
       "  <tbody>\n",
       "    <tr>\n",
       "      <th>0</th>\n",
       "      <td>Piła, pilski, Wielkopolskie</td>\n",
       "      <td>Wielkopolskie</td>\n",
       "    </tr>\n",
       "    <tr>\n",
       "      <th>1</th>\n",
       "      <td>Kwidzyn, kwidzyński, Pomorskie</td>\n",
       "      <td>Pomorskie</td>\n",
       "    </tr>\n",
       "    <tr>\n",
       "      <th>2</th>\n",
       "      <td>Aleja Krakowska 169 - 02-180 Warszawa, Włochy ...</td>\n",
       "      <td>Aleja Krakowska 169 - 02-180 Warszawa, Włochy ...</td>\n",
       "    </tr>\n",
       "    <tr>\n",
       "      <th>3</th>\n",
       "      <td>Gdańsk, Pomorskie, Przymorze Małe</td>\n",
       "      <td>Pomorskie</td>\n",
       "    </tr>\n",
       "    <tr>\n",
       "      <th>4</th>\n",
       "      <td>Estrady 14 - 05-080 Klaudyn, warszawski zachod...</td>\n",
       "      <td>Mazowieckie</td>\n",
       "    </tr>\n",
       "  </tbody>\n",
       "</table>\n",
       "</div>"
      ],
      "text/plain": [
       "                                         lokalizacja  \\\n",
       "0                        Piła, pilski, Wielkopolskie   \n",
       "1                     Kwidzyn, kwidzyński, Pomorskie   \n",
       "2  Aleja Krakowska 169 - 02-180 Warszawa, Włochy ...   \n",
       "3                  Gdańsk, Pomorskie, Przymorze Małe   \n",
       "4  Estrady 14 - 05-080 Klaudyn, warszawski zachod...   \n",
       "\n",
       "                             lokalizacja_wojewodztwo  \n",
       "0                                      Wielkopolskie  \n",
       "1                                          Pomorskie  \n",
       "2  Aleja Krakowska 169 - 02-180 Warszawa, Włochy ...  \n",
       "3                                          Pomorskie  \n",
       "4                                        Mazowieckie  "
      ]
     },
     "execution_count": 22,
     "metadata": {},
     "output_type": "execute_result"
    }
   ],
   "source": [
    "mazda[['lokalizacja','lokalizacja_wojewodztwo']].head()"
   ]
  },
  {
   "cell_type": "markdown",
   "metadata": {},
   "source": [
    "###### assigning uniform values second time"
   ]
  },
  {
   "cell_type": "code",
   "execution_count": 23,
   "metadata": {},
   "outputs": [],
   "source": [
    "# searching for a value from the list in the description\n",
    "for val in mazda['lokalizacja_wojewodztwo']:\n",
    "    for ci in city:\n",
    "        if ci in val:\n",
    "            mazda['lokalizacja_wojewodztwo'].replace(val,ci, inplace=True)    "
   ]
  },
  {
   "cell_type": "code",
   "execution_count": 24,
   "metadata": {},
   "outputs": [
    {
     "data": {
      "text/html": [
       "<div>\n",
       "<style scoped>\n",
       "    .dataframe tbody tr th:only-of-type {\n",
       "        vertical-align: middle;\n",
       "    }\n",
       "\n",
       "    .dataframe tbody tr th {\n",
       "        vertical-align: top;\n",
       "    }\n",
       "\n",
       "    .dataframe thead th {\n",
       "        text-align: right;\n",
       "    }\n",
       "</style>\n",
       "<table border=\"1\" class=\"dataframe\">\n",
       "  <thead>\n",
       "    <tr style=\"text-align: right;\">\n",
       "      <th></th>\n",
       "      <th>lokalizacja</th>\n",
       "      <th>lokalizacja_wojewodztwo</th>\n",
       "    </tr>\n",
       "  </thead>\n",
       "  <tbody>\n",
       "    <tr>\n",
       "      <th>0</th>\n",
       "      <td>Piła, pilski, Wielkopolskie</td>\n",
       "      <td>Wielkopolskie</td>\n",
       "    </tr>\n",
       "    <tr>\n",
       "      <th>1</th>\n",
       "      <td>Kwidzyn, kwidzyński, Pomorskie</td>\n",
       "      <td>Pomorskie</td>\n",
       "    </tr>\n",
       "    <tr>\n",
       "      <th>2</th>\n",
       "      <td>Aleja Krakowska 169 - 02-180 Warszawa, Włochy ...</td>\n",
       "      <td>Warszawa</td>\n",
       "    </tr>\n",
       "    <tr>\n",
       "      <th>3</th>\n",
       "      <td>Gdańsk, Pomorskie, Przymorze Małe</td>\n",
       "      <td>Pomorskie</td>\n",
       "    </tr>\n",
       "    <tr>\n",
       "      <th>4</th>\n",
       "      <td>Estrady 14 - 05-080 Klaudyn, warszawski zachod...</td>\n",
       "      <td>Mazowieckie</td>\n",
       "    </tr>\n",
       "  </tbody>\n",
       "</table>\n",
       "</div>"
      ],
      "text/plain": [
       "                                         lokalizacja lokalizacja_wojewodztwo\n",
       "0                        Piła, pilski, Wielkopolskie           Wielkopolskie\n",
       "1                     Kwidzyn, kwidzyński, Pomorskie               Pomorskie\n",
       "2  Aleja Krakowska 169 - 02-180 Warszawa, Włochy ...                Warszawa\n",
       "3                  Gdańsk, Pomorskie, Przymorze Małe               Pomorskie\n",
       "4  Estrady 14 - 05-080 Klaudyn, warszawski zachod...             Mazowieckie"
      ]
     },
     "execution_count": 24,
     "metadata": {},
     "output_type": "execute_result"
    }
   ],
   "source": [
    "mazda[['lokalizacja','lokalizacja_wojewodztwo']].head()"
   ]
  },
  {
   "cell_type": "code",
   "execution_count": 25,
   "metadata": {},
   "outputs": [],
   "source": [
    "# change city for region\n",
    "mazda['lokalizacja_wojewodztwo'].replace({'Warszawa':'Mazowieckie'},regex=True, inplace=True)\n",
    "mazda['lokalizacja_wojewodztwo'].replace({'Wrocław':'Dolnoslaskie'},regex=True, inplace=True)\n",
    "mazda['lokalizacja_wojewodztwo'].replace({'Poznań':'Wielkopolskie'},regex=True, inplace=True)\n",
    "mazda['lokalizacja_wojewodztwo'].replace({'Częstochowa':'Slaskie'},regex=True, inplace=True)\n",
    "mazda['lokalizacja_wojewodztwo'].replace({'Gdynia':'Pomorskie'},regex=True, inplace=True)\n",
    "mazda['lokalizacja_wojewodztwo'].replace({'Białystok':'Podlaskie'},regex=True, inplace=True)\n",
    "mazda['lokalizacja_wojewodztwo'].replace({'Kraków':'Malopolskie'},regex=True, inplace=True)\n",
    "mazda['lokalizacja_wojewodztwo'].replace({'Szczecin':'Zachodniopomorskie'},regex=True, inplace=True)\n",
    "mazda['lokalizacja_wojewodztwo'].replace({'Katowice':'Slaskie'},regex=True, inplace=True)\n",
    "mazda['lokalizacja_wojewodztwo'].replace({'Gdańsk':'Pomorskie'},regex=True, inplace=True)\n",
    "mazda['lokalizacja_wojewodztwo'].replace({'Łódź':'Lodzkie'},regex=True, inplace=True)"
   ]
  },
  {
   "cell_type": "code",
   "execution_count": 26,
   "metadata": {},
   "outputs": [],
   "source": [
    "# marking values from outside the list as \"inne\"\n",
    "mazda['lokalizacja_wojewodztwo'] = mazda['lokalizacja_wojewodztwo'].apply(lambda x: 'inne' if x not in regions else x)"
   ]
  },
  {
   "cell_type": "code",
   "execution_count": 27,
   "metadata": {},
   "outputs": [
    {
     "data": {
      "text/plain": [
       "lokalizacja_wojewodztwo\n",
       "inne                     62\n",
       "Opolskie                 96\n",
       "Warminsko-mazurskie     103\n",
       "Swietokrzyskie          144\n",
       "Lubuskie                164\n",
       "Podkarpackie            170\n",
       "Zachodniopomorskie      173\n",
       "Lubelskie               213\n",
       "Kujawsko-pomorskie      242\n",
       "Podlaskie               249\n",
       "Lodzkie                 320\n",
       "Pomorskie               352\n",
       "Malopolskie             401\n",
       "Dolnoslaskie            410\n",
       "Wielkopolskie           615\n",
       "Slaskie                 760\n",
       "Mazowieckie            1187\n",
       "dtype: int64"
      ]
     },
     "execution_count": 27,
     "metadata": {},
     "output_type": "execute_result"
    }
   ],
   "source": [
    "# only 62 records assigned as \"inne\"\n",
    "mazda.groupby(by=['lokalizacja_wojewodztwo']).size().sort_values()"
   ]
  },
  {
   "cell_type": "code",
   "execution_count": 28,
   "metadata": {},
   "outputs": [
    {
     "data": {
      "text/plain": [
       "136     Staromiejska 33 - 43-190 Mikołów, Paniowy (Pol...\n",
       "208     PADEREWSKIEGO 124 - 42-400 Zawiercie, Warty (P...\n",
       "266      Portowa 2 - 44-100 Gliwice, Śródmieście (Polska)\n",
       "457     Spółdzielcza 38 - 58-500 Jelenia Góra, Centrum...\n",
       "458     ROLNICZA 33 - 42-400 Zawiercie, Marciszów (Pol...\n",
       "503     ul. Jeziorska➠Zawadzka 3 - 43-180 Orzesze, Cen...\n",
       "509     Gliwicka 135A - 43-190 Mikołów, Śmiłowice (Pol...\n",
       "589     wróblewskiego 27 - 42-506 Będzin, Grodziec (Po...\n",
       "770     White House Business Centre Wilderspool Busine...\n",
       "996     ul. Kozielska 82 - 44-121 Gliwice, Śródmieście...\n",
       "1161    Pszczyńska 107A - 44-100 Gliwice, Politechnika...\n",
       "1298    SIEWIERSKA 197a - 42-400 Zawiercie, Kromołów (...\n",
       "1426    Tarnogórska 55 - 44-100 Gliwice, Śródmieście (...\n",
       "1433          Małobądz - 42-500 Będzin, Małobądz (Polska)\n",
       "1496    Al. Niepodległości 635 - 81-855 Sopot, Centrum...\n",
       "1701    Okopowa 1 ( wjazd od ul. Zgorzeleckiej ) - 58-...\n",
       "1779    ZGODY 20 (PRZY UL GLIWICKIEJ) - 43-190 Mikołów...\n",
       "1883    Wolności 121 - 58-500 Jelenia Góra, Centrum (P...\n",
       "1886    Staromiejska 33 - 43-190 Mikołów, Paniowy (Pol...\n",
       "1998    Staromiejska 33 - 43-190 Mikołów, Paniowy (Pol...\n",
       "2040    Staromiejska 33 - 43-190 Mikołów, Paniowy (Pol...\n",
       "2043    Pszczyńska 107A - 44-100 Gliwice, Politechnika...\n",
       "2052    Stanisława Wyspiańskiego 49 - 47-206 Kędzierzy...\n",
       "2070    Spółdzielcza 38 - 58-500 Jelenia Góra, Centrum...\n",
       "2332    PADEREWSKIEGO 124 - 42-400 Zawiercie, Warty (P...\n",
       "2670    SIEWIERSKA 197a - 42-400 Zawiercie, Kromołów (...\n",
       "2816          Małobądz - 42-500 Będzin, Małobądz (Polska)\n",
       "2843          Małobądz - 42-500 Będzin, Małobądz (Polska)\n",
       "2875          Małobądz - 42-500 Będzin, Małobądz (Polska)\n",
       "2881          Małobądz - 42-500 Będzin, Małobądz (Polska)\n",
       "                              ...                        \n",
       "3203    ul. Os.Dziekana - 41-253 Czeladź, Piaski (Polska)\n",
       "3409    ul. Siewierska, nr 197B - 41-431 Zawiercie, Kr...\n",
       "3638    Gliwicka 135A - 43-190 Mikołów, Śmiłowice (Pol...\n",
       "3747    Pszczyńska 107A - 44-100 Gliwice, Politechnika...\n",
       "3833    PADEREWSKIEGO 124 - 42-400 Zawiercie, Warty (P...\n",
       "3857    SIEWIERSKA 197a - 42-400 Zawiercie, Kromołów (...\n",
       "3936    PADEREWSKIEGO 124 - 42-400 Zawiercie, Warty (P...\n",
       "4113    UL. WARSZAWSKA 137 - 43-155 Bieruń, Bieruń Now...\n",
       "4120    Pszczyńska 107A - 44-100 Gliwice, Politechnika...\n",
       "4217    SIEWIERSKA 197a - 42-400 Zawiercie, Kromołów (...\n",
       "4347    Ignacego Paderewskiego 112b - 42-400 Zawiercie...\n",
       "4441    Spółdzielcza 38 - 58-500 Jelenia Góra, Centrum...\n",
       "4626          Małobądz - 42-500 Będzin, Małobądz (Polska)\n",
       "4627    K mostu 393 Stara ves nad Ondřejnici - 73923 N...\n",
       "4644    ZGODY 20 (PRZY UL GLIWICKIEJ) - 43-190 Mikołów...\n",
       "4647    Warszawska 311 - 43-155 Bieruń, Bieruń Nowy (P...\n",
       "4743    ul. Pogorzelska 1 - 42-400 Zawiercie, Centrum ...\n",
       "4756    SIEWIERSKA 197a - 42-400 Zawiercie, Kromołów (...\n",
       "4809    ul. Siewierska, nr 197B - 41-431 Zawiercie, Kr...\n",
       "4878      Uniemyśl 78 - 72-015 Police, Jasienica (Polska)\n",
       "4887    ul. Łabędzia, 59 - 42-400 Zawiercie, Marciszów...\n",
       "4994    MAŁOBĄDZKA 158 - 42-500 Będzin, Małobądz (Polska)\n",
       "5051    Władysława Sikorskiego 6 - 44-103 Gliwice, Soś...\n",
       "5093    UL. KOZIELSKA 64 - 47-224 Kędzierzyn-Koźle, Kę...\n",
       "5267       Zawiercie - 42-400 Zawiercie, Zuzanka (Polska)\n",
       "5299    Wojska Polskiego 1 - 43-190 Mikołów, Mokre (Po...\n",
       "5432    Sarnowska 20 (obok stacji paliw i wulkanizacji...\n",
       "5451    Warszawska 311 - 43-155 Bieruń, Bieruń Nowy (P...\n",
       "5548    SIEWIERSKA 197a - 42-400 Zawiercie, Kromołów (...\n",
       "5596     Partyzantów 7 - 43-180 Orzesze, Centrum (Polska)\n",
       "Name: lokalizacja, Length: 62, dtype: object"
      ]
     },
     "execution_count": 28,
     "metadata": {},
     "output_type": "execute_result"
    }
   ],
   "source": [
    "mazda['lokalizacja'][( mazda['lokalizacja_wojewodztwo'] == 'inne')]"
   ]
  },
  {
   "cell_type": "code",
   "execution_count": null,
   "metadata": {},
   "outputs": [],
   "source": [
    "mazda.to_json(r'C:\\...\\dataset_mazda_v3.json')"
   ]
  }
 ],
 "metadata": {
  "kernelspec": {
   "display_name": "Python 3",
   "language": "python",
   "name": "python3"
  },
  "language_info": {
   "codemirror_mode": {
    "name": "ipython",
    "version": 3
   },
   "file_extension": ".py",
   "mimetype": "text/x-python",
   "name": "python",
   "nbconvert_exporter": "python",
   "pygments_lexer": "ipython3",
   "version": "3.7.3"
  }
 },
 "nbformat": 4,
 "nbformat_minor": 2
}

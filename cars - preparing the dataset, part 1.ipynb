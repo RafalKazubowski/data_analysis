{
 "cells": [
  {
   "cell_type": "code",
   "execution_count": 1,
   "metadata": {},
   "outputs": [],
   "source": [
    "import pandas as pd\n",
    "import numpy as np\n",
    "import seaborn as sns\n",
    "import matplotlib.pyplot as plt\n",
    "import json"
   ]
  },
  {
   "cell_type": "code",
   "execution_count": 2,
   "metadata": {},
   "outputs": [],
   "source": [
    "# loading announcements\n",
    "mazda=pd.read_json('scraper_mazda.json')"
   ]
  },
  {
   "cell_type": "markdown",
   "metadata": {},
   "source": [
    "## getting familiar with the data"
   ]
  },
  {
   "cell_type": "code",
   "execution_count": 3,
   "metadata": {},
   "outputs": [
    {
     "data": {
      "text/html": [
       "<div>\n",
       "<style scoped>\n",
       "    .dataframe tbody tr th:only-of-type {\n",
       "        vertical-align: middle;\n",
       "    }\n",
       "\n",
       "    .dataframe tbody tr th {\n",
       "        vertical-align: top;\n",
       "    }\n",
       "\n",
       "    .dataframe thead th {\n",
       "        text-align: right;\n",
       "    }\n",
       "</style>\n",
       "<table border=\"1\" class=\"dataframe\">\n",
       "  <thead>\n",
       "    <tr style=\"text-align: right;\">\n",
       "      <th></th>\n",
       "      <th></th>\n",
       "      <th>abs</th>\n",
       "      <th>akryl-niemetalizowany</th>\n",
       "      <th>alarm</th>\n",
       "      <th>alufelgi</th>\n",
       "      <th>asr-kontrola-trakcji</th>\n",
       "      <th>asystent-parkowania</th>\n",
       "      <th>asystent-pasa-ruchu</th>\n",
       "      <th>bezwypadkowy</th>\n",
       "      <th>bluetooth</th>\n",
       "      <th>...</th>\n",
       "      <th>vat-marza</th>\n",
       "      <th>vin</th>\n",
       "      <th>wartosc-wykupu</th>\n",
       "      <th>wersja</th>\n",
       "      <th>wielofunkcyjna-kierownica</th>\n",
       "      <th>wspomaganie-kierownicy</th>\n",
       "      <th>www</th>\n",
       "      <th>zarejestrowany-jako-zabytek</th>\n",
       "      <th>zarejestrowany-w-polsce</th>\n",
       "      <th>zmieniarka-cd</th>\n",
       "    </tr>\n",
       "  </thead>\n",
       "  <tbody>\n",
       "    <tr>\n",
       "      <th>0</th>\n",
       "      <td>NaN</td>\n",
       "      <td>yes</td>\n",
       "      <td>NaN</td>\n",
       "      <td>NaN</td>\n",
       "      <td>yes</td>\n",
       "      <td>yes</td>\n",
       "      <td>NaN</td>\n",
       "      <td>NaN</td>\n",
       "      <td>Tak</td>\n",
       "      <td>NaN</td>\n",
       "      <td>...</td>\n",
       "      <td>Tak</td>\n",
       "      <td>NaN</td>\n",
       "      <td>NaN</td>\n",
       "      <td>2.0 Active</td>\n",
       "      <td>yes</td>\n",
       "      <td>yes</td>\n",
       "      <td>https://www.otomoto.pl/oferta/mazda-6-xenonkli...</td>\n",
       "      <td>NaN</td>\n",
       "      <td>NaN</td>\n",
       "      <td>yes</td>\n",
       "    </tr>\n",
       "    <tr>\n",
       "      <th>1</th>\n",
       "      <td>NaN</td>\n",
       "      <td>yes</td>\n",
       "      <td>NaN</td>\n",
       "      <td>NaN</td>\n",
       "      <td>yes</td>\n",
       "      <td>yes</td>\n",
       "      <td>NaN</td>\n",
       "      <td>NaN</td>\n",
       "      <td>NaN</td>\n",
       "      <td>NaN</td>\n",
       "      <td>...</td>\n",
       "      <td>NaN</td>\n",
       "      <td>NaN</td>\n",
       "      <td>NaN</td>\n",
       "      <td>NaN</td>\n",
       "      <td>yes</td>\n",
       "      <td>yes</td>\n",
       "      <td>https://www.otomoto.pl/oferta/mazda-rx-8-piekn...</td>\n",
       "      <td>NaN</td>\n",
       "      <td>NaN</td>\n",
       "      <td>NaN</td>\n",
       "    </tr>\n",
       "    <tr>\n",
       "      <th>2</th>\n",
       "      <td>NaN</td>\n",
       "      <td>yes</td>\n",
       "      <td>NaN</td>\n",
       "      <td>yes</td>\n",
       "      <td>yes</td>\n",
       "      <td>NaN</td>\n",
       "      <td>NaN</td>\n",
       "      <td>NaN</td>\n",
       "      <td>NaN</td>\n",
       "      <td>NaN</td>\n",
       "      <td>...</td>\n",
       "      <td>NaN</td>\n",
       "      <td>NaN</td>\n",
       "      <td>NaN</td>\n",
       "      <td>NaN</td>\n",
       "      <td>NaN</td>\n",
       "      <td>yes</td>\n",
       "      <td>https://www.otomoto.pl/oferta/mazda-cx-7-mazda...</td>\n",
       "      <td>NaN</td>\n",
       "      <td>NaN</td>\n",
       "      <td>NaN</td>\n",
       "    </tr>\n",
       "    <tr>\n",
       "      <th>3</th>\n",
       "      <td>NaN</td>\n",
       "      <td>yes</td>\n",
       "      <td>NaN</td>\n",
       "      <td>yes</td>\n",
       "      <td>yes</td>\n",
       "      <td>yes</td>\n",
       "      <td>NaN</td>\n",
       "      <td>yes</td>\n",
       "      <td>Tak</td>\n",
       "      <td>yes</td>\n",
       "      <td>...</td>\n",
       "      <td>NaN</td>\n",
       "      <td>NaN</td>\n",
       "      <td>NaN</td>\n",
       "      <td>2.0 Skypassion</td>\n",
       "      <td>yes</td>\n",
       "      <td>yes</td>\n",
       "      <td>https://www.otomoto.pl/oferta/mazda-cx-3-mazda...</td>\n",
       "      <td>NaN</td>\n",
       "      <td>Tak</td>\n",
       "      <td>NaN</td>\n",
       "    </tr>\n",
       "    <tr>\n",
       "      <th>4</th>\n",
       "      <td>NaN</td>\n",
       "      <td>yes</td>\n",
       "      <td>NaN</td>\n",
       "      <td>NaN</td>\n",
       "      <td>yes</td>\n",
       "      <td>yes</td>\n",
       "      <td>NaN</td>\n",
       "      <td>NaN</td>\n",
       "      <td>Tak</td>\n",
       "      <td>yes</td>\n",
       "      <td>...</td>\n",
       "      <td>NaN</td>\n",
       "      <td>NaN</td>\n",
       "      <td>NaN</td>\n",
       "      <td>NaN</td>\n",
       "      <td>yes</td>\n",
       "      <td>yes</td>\n",
       "      <td>https://www.otomoto.pl/oferta/mazda-6-mazda-6-...</td>\n",
       "      <td>NaN</td>\n",
       "      <td>Tak</td>\n",
       "      <td>NaN</td>\n",
       "    </tr>\n",
       "  </tbody>\n",
       "</table>\n",
       "<p>5 rows × 126 columns</p>\n",
       "</div>"
      ],
      "text/plain": [
       "        abs akryl-niemetalizowany alarm alufelgi asr-kontrola-trakcji  \\\n",
       "0  NaN  yes                   NaN   NaN      yes                  yes   \n",
       "1  NaN  yes                   NaN   NaN      yes                  yes   \n",
       "2  NaN  yes                   NaN   yes      yes                  NaN   \n",
       "3  NaN  yes                   NaN   yes      yes                  yes   \n",
       "4  NaN  yes                   NaN   NaN      yes                  yes   \n",
       "\n",
       "  asystent-parkowania asystent-pasa-ruchu bezwypadkowy bluetooth  ...  \\\n",
       "0                 NaN                 NaN          Tak       NaN  ...   \n",
       "1                 NaN                 NaN          NaN       NaN  ...   \n",
       "2                 NaN                 NaN          NaN       NaN  ...   \n",
       "3                 NaN                 yes          Tak       yes  ...   \n",
       "4                 NaN                 NaN          Tak       yes  ...   \n",
       "\n",
       "  vat-marza  vin wartosc-wykupu          wersja wielofunkcyjna-kierownica  \\\n",
       "0       Tak  NaN            NaN      2.0 Active                       yes   \n",
       "1       NaN  NaN            NaN             NaN                       yes   \n",
       "2       NaN  NaN            NaN             NaN                       NaN   \n",
       "3       NaN  NaN            NaN  2.0 Skypassion                       yes   \n",
       "4       NaN  NaN            NaN             NaN                       yes   \n",
       "\n",
       "  wspomaganie-kierownicy                                                www  \\\n",
       "0                    yes  https://www.otomoto.pl/oferta/mazda-6-xenonkli...   \n",
       "1                    yes  https://www.otomoto.pl/oferta/mazda-rx-8-piekn...   \n",
       "2                    yes  https://www.otomoto.pl/oferta/mazda-cx-7-mazda...   \n",
       "3                    yes  https://www.otomoto.pl/oferta/mazda-cx-3-mazda...   \n",
       "4                    yes  https://www.otomoto.pl/oferta/mazda-6-mazda-6-...   \n",
       "\n",
       "  zarejestrowany-jako-zabytek zarejestrowany-w-polsce zmieniarka-cd  \n",
       "0                         NaN                     NaN           yes  \n",
       "1                         NaN                     NaN           NaN  \n",
       "2                         NaN                     NaN           NaN  \n",
       "3                         NaN                     Tak           NaN  \n",
       "4                         NaN                     Tak           NaN  \n",
       "\n",
       "[5 rows x 126 columns]"
      ]
     },
     "execution_count": 3,
     "metadata": {},
     "output_type": "execute_result"
    }
   ],
   "source": [
    "mazda.head(5)"
   ]
  },
  {
   "cell_type": "code",
   "execution_count": 4,
   "metadata": {},
   "outputs": [
    {
     "name": "stdout",
     "output_type": "stream",
     "text": [
      "<class 'pandas.core.frame.DataFrame'>\n",
      "RangeIndex: 5736 entries, 0 to 5735\n",
      "Data columns (total 126 columns):\n",
      "                                         object\n",
      "abs                                      object\n",
      "akryl-niemetalizowany                    object\n",
      "alarm                                    object\n",
      "alufelgi                                 object\n",
      "asr-kontrola-trakcji                     object\n",
      "asystent-parkowania                      object\n",
      "asystent-pasa-ruchu                      object\n",
      "bezwypadkowy                             object\n",
      "bluetooth                                object\n",
      "cd                                       object\n",
      "cena                                     object\n",
      "cena-info                                object\n",
      "cena-waluta                              object\n",
      "centralny-zamek                          object\n",
      "czujnik-deszczu                          object\n",
      "czujnik-martwego-pola                    object\n",
      "czujnik-zmierzchu                        object\n",
      "czujniki-parkowania-przednie             object\n",
      "czujniki-parkowania-tylne                object\n",
      "dach-panoramiczny                        object\n",
      "data-dodania                             object\n",
      "elektrochromatyczne-lusterka-boczne      object\n",
      "elektrochromatyczne-lusterko-wsteczne    object\n",
      "elektryczne-szyby-przednie               object\n",
      "elektryczne-szyby-tylne                  object\n",
      "elektrycznie-ustawiane-fotele            object\n",
      "elektrycznie-ustawiane-lusterka          object\n",
      "emisja-co2                               object\n",
      "esp-stabilizacja-toru-jazdy              object\n",
      "faktura-vat                              object\n",
      "filtr-czastek-stalych                    object\n",
      "generacja                                object\n",
      "gniazdo-aux                              object\n",
      "gniazdo-sd                               object\n",
      "gniazdo-usb                              object\n",
      "gwarancja-dealerska-w-cenie              object\n",
      "hak                                      object\n",
      "homologacja-ciezarowa                    object\n",
      "hud-wyswietlacz-przezierny               object\n",
      "id                                       int64\n",
      "immobilizer                              object\n",
      "isofix                                   object\n",
      "kamera-cofania                           object\n",
      "kategoria                                object\n",
      "kierownica-po-prawej-anglik              object\n",
      "klimatyzacja-automatyczna                object\n",
      "klimatyzacja-czterostrefowa              object\n",
      "klimatyzacja-dwustrefowa                 object\n",
      "klimatyzacja-manualna                    object\n",
      "kolor                                    object\n",
      "komputer-pokladowy                       object\n",
      "kraj-pochodzenia                         object\n",
      "kurtyny-powietrzne                       object\n",
      "leasing                                  object\n",
      "liczba-drzwi                             float64\n",
      "liczba-miejsc                            float64\n",
      "liczba-pozostalych-rat                   float64\n",
      "lokalizacja                              object\n",
      "lopatki-zmiany-biegow                    object\n",
      "lub-do-przebieg-km                       object\n",
      "marka-pojazdu                            object\n",
      "matowy                                   object\n",
      "metalik                                  object\n",
      "miesieczna-rata                          object\n",
      "moc                                      object\n",
      "model-pojazdu                            object\n",
      "mozliwosc-finansowania                   object\n",
      "mp3                                      object\n",
      "naped                                    object\n",
      "nawigacja-gps                            object\n",
      "numer-rejestracyjny-pojazdu              object\n",
      "odtwarzacz-dvd                           object\n",
      "oferta-od                                object\n",
      "ogranicznik-predkosci                    object\n",
      "ogrzewanie-postojowe                     object\n",
      "okres-gwarancji-producenta               object\n",
      "oplata-poczatkowa                        object\n",
      "perlowy                                  object\n",
      "pierwsza-rejestracja                     object\n",
      "pierwszy-wlasciciel                      object\n",
      "podgrzewana-przednia-szyba               object\n",
      "podgrzewane-lusterka-boczne              object\n",
      "podgrzewane-przednie-siedzenia           object\n",
      "podgrzewane-tylne-siedzenia              object\n",
      "poduszka-powietrzna-chroniaca-kolana     object\n",
      "poduszka-powietrzna-kierowcy             object\n",
      "poduszka-powietrzna-pasazera             object\n",
      "poduszki-boczne-przednie                 object\n",
      "poduszki-boczne-tylne                    object\n",
      "pojemnosc-skokowa                        object\n",
      "przebieg                                 object\n",
      "przyciemniane-szyby                      object\n",
      "radio-fabryczne                          object\n",
      "radio-niefabryczne                       object\n",
      "regulowane-zawieszenie                   object\n",
      "relingi-dachowe                          object\n",
      "rodzaj-paliwa                            object\n",
      "rok-produkcji                            int64\n",
      "serwisowany-w-aso                        object\n",
      "skrzynia-biegow                          object\n",
      "stan                                     object\n",
      "swiatla-do-jazdy-dziennej                object\n",
      "swiatla-led                              object\n",
      "swiatla-przeciwmgielne                   object\n",
      "swiatla-xenonowe                         object\n",
      "system-start-stop                        object\n",
      "szyberdach                               object\n",
      "tapicerka-skorzana                       object\n",
      "tapicerka-welurowa                       object\n",
      "tempomat                                 object\n",
      "tempomat-aktywny                         object\n",
      "tuner-tv                                 object\n",
      "tuning                                   object\n",
      "typ                                      object\n",
      "uszkodzony                               object\n",
      "vat-marza                                object\n",
      "vin                                      object\n",
      "wartosc-wykupu                           object\n",
      "wersja                                   object\n",
      "wielofunkcyjna-kierownica                object\n",
      "wspomaganie-kierownicy                   object\n",
      "www                                      object\n",
      "zarejestrowany-jako-zabytek              object\n",
      "zarejestrowany-w-polsce                  object\n",
      "zmieniarka-cd                            object\n",
      "dtypes: float64(3), int64(2), object(121)\n",
      "memory usage: 5.5+ MB\n"
     ]
    }
   ],
   "source": [
    "mazda.info(verbose=True)"
   ]
  },
  {
   "cell_type": "code",
   "execution_count": 5,
   "metadata": {},
   "outputs": [
    {
     "data": {
      "text/plain": [
       "www                                     5736\n",
       "id                                      5661\n",
       "data-dodania                            4214\n",
       "przebieg                                2310\n",
       "lokalizacja                             2198\n",
       "cena                                    1321\n",
       "pierwsza-rejestracja                    1305\n",
       "numer-rejestracyjny-pojazdu              539\n",
       "wersja                                   228\n",
       "okres-gwarancji-producenta               196\n",
       "moc                                      129\n",
       "pojemnosc-skokowa                        108\n",
       "lub-do-przebieg-km                        71\n",
       "miesieczna-rata                           46\n",
       "emisja-co2                                42\n",
       "rok-produkcji                             39\n",
       "model-pojazdu                             27\n",
       "generacja                                 24\n",
       "kraj-pochodzenia                          21\n",
       "wartosc-wykupu                            20\n",
       "oplata-poczatkowa                         18\n",
       "kolor                                     14\n",
       "vin                                       14\n",
       "liczba-pozostalych-rat                    10\n",
       "gwarancja-dealerska-w-cenie                9\n",
       "typ                                        9\n",
       "liczba-miejsc                              7\n",
       "cena-info                                  7\n",
       "liczba-drzwi                               6\n",
       "naped                                      5\n",
       "rodzaj-paliwa                              4\n",
       "cena-waluta                                2\n",
       "stan                                       2\n",
       "skrzynia-biegow                            2\n",
       "metalik                                    2\n",
       "oferta-od                                  2\n",
       "                                           1\n",
       "poduszka-powietrzna-pasazera               1\n",
       "poduszka-powietrzna-kierowcy               1\n",
       "poduszka-powietrzna-chroniaca-kolana       1\n",
       "dtype: int64"
      ]
     },
     "execution_count": 5,
     "metadata": {},
     "output_type": "execute_result"
    }
   ],
   "source": [
    "mazda.nunique().sort_values().nlargest(40)"
   ]
  },
  {
   "cell_type": "code",
   "execution_count": 6,
   "metadata": {},
   "outputs": [
    {
     "data": {
      "text/plain": [
       "array(['', 'abs', 'akryl-niemetalizowany', 'alarm', 'alufelgi',\n",
       "       'asr-kontrola-trakcji', 'asystent-parkowania',\n",
       "       'asystent-pasa-ruchu', 'bezwypadkowy', 'bluetooth', 'cd', 'cena',\n",
       "       'cena-info', 'cena-waluta', 'centralny-zamek', 'czujnik-deszczu',\n",
       "       'czujnik-martwego-pola', 'czujnik-zmierzchu',\n",
       "       'czujniki-parkowania-przednie', 'czujniki-parkowania-tylne',\n",
       "       'dach-panoramiczny', 'data-dodania',\n",
       "       'elektrochromatyczne-lusterka-boczne',\n",
       "       'elektrochromatyczne-lusterko-wsteczne',\n",
       "       'elektryczne-szyby-przednie', 'elektryczne-szyby-tylne',\n",
       "       'elektrycznie-ustawiane-fotele', 'elektrycznie-ustawiane-lusterka',\n",
       "       'emisja-co2', 'esp-stabilizacja-toru-jazdy', 'faktura-vat',\n",
       "       'filtr-czastek-stalych', 'generacja', 'gniazdo-aux', 'gniazdo-sd',\n",
       "       'gniazdo-usb', 'gwarancja-dealerska-w-cenie', 'hak',\n",
       "       'homologacja-ciezarowa', 'hud-wyswietlacz-przezierny', 'id',\n",
       "       'immobilizer', 'isofix', 'kamera-cofania', 'kategoria',\n",
       "       'kierownica-po-prawej-anglik', 'klimatyzacja-automatyczna',\n",
       "       'klimatyzacja-czterostrefowa', 'klimatyzacja-dwustrefowa',\n",
       "       'klimatyzacja-manualna', 'kolor', 'komputer-pokladowy',\n",
       "       'kraj-pochodzenia', 'kurtyny-powietrzne', 'leasing',\n",
       "       'liczba-drzwi', 'liczba-miejsc', 'liczba-pozostalych-rat',\n",
       "       'lokalizacja', 'lopatki-zmiany-biegow', 'lub-do-przebieg-km',\n",
       "       'marka-pojazdu', 'matowy', 'metalik', 'miesieczna-rata', 'moc',\n",
       "       'model-pojazdu', 'mozliwosc-finansowania', 'mp3', 'naped',\n",
       "       'nawigacja-gps', 'numer-rejestracyjny-pojazdu', 'odtwarzacz-dvd',\n",
       "       'oferta-od', 'ogranicznik-predkosci', 'ogrzewanie-postojowe',\n",
       "       'okres-gwarancji-producenta', 'oplata-poczatkowa', 'perlowy',\n",
       "       'pierwsza-rejestracja', 'pierwszy-wlasciciel',\n",
       "       'podgrzewana-przednia-szyba', 'podgrzewane-lusterka-boczne',\n",
       "       'podgrzewane-przednie-siedzenia', 'podgrzewane-tylne-siedzenia',\n",
       "       'poduszka-powietrzna-chroniaca-kolana',\n",
       "       'poduszka-powietrzna-kierowcy', 'poduszka-powietrzna-pasazera',\n",
       "       'poduszki-boczne-przednie', 'poduszki-boczne-tylne',\n",
       "       'pojemnosc-skokowa', 'przebieg', 'przyciemniane-szyby',\n",
       "       'radio-fabryczne', 'radio-niefabryczne', 'regulowane-zawieszenie',\n",
       "       'relingi-dachowe', 'rodzaj-paliwa', 'rok-produkcji',\n",
       "       'serwisowany-w-aso', 'skrzynia-biegow', 'stan',\n",
       "       'swiatla-do-jazdy-dziennej', 'swiatla-led',\n",
       "       'swiatla-przeciwmgielne', 'swiatla-xenonowe', 'system-start-stop',\n",
       "       'szyberdach', 'tapicerka-skorzana', 'tapicerka-welurowa',\n",
       "       'tempomat', 'tempomat-aktywny', 'tuner-tv', 'tuning', 'typ',\n",
       "       'uszkodzony', 'vat-marza', 'vin', 'wartosc-wykupu', 'wersja',\n",
       "       'wielofunkcyjna-kierownica', 'wspomaganie-kierownicy', 'www',\n",
       "       'zarejestrowany-jako-zabytek', 'zarejestrowany-w-polsce',\n",
       "       'zmieniarka-cd'], dtype=object)"
      ]
     },
     "execution_count": 6,
     "metadata": {},
     "output_type": "execute_result"
    }
   ],
   "source": [
    "mazda.columns.values"
   ]
  },
  {
   "cell_type": "code",
   "execution_count": 7,
   "metadata": {},
   "outputs": [
    {
     "data": {
      "text/plain": [
       "rodzaj-paliwa                         0\n",
       "model-pojazdu                         0\n",
       "marka-pojazdu                         0\n",
       "lokalizacja                           0\n",
       "kolor                                 0\n",
       "rok-produkcji                         0\n",
       "kategoria                             0\n",
       "id                                    0\n",
       "www                                   0\n",
       "stan                                  0\n",
       "data-dodania                          0\n",
       "typ                                   0\n",
       "cena-waluta                           0\n",
       "oferta-od                             0\n",
       "cena-info                             0\n",
       "cena                                  0\n",
       "przebieg                              0\n",
       "pojemnosc-skokowa                    86\n",
       "skrzynia-biegow                      87\n",
       "moc                                 121\n",
       "liczba-drzwi                        322\n",
       "abs                                 449\n",
       "centralny-zamek                     469\n",
       "elektryczne-szyby-przednie          498\n",
       "poduszka-powietrzna-kierowcy        548\n",
       "wspomaganie-kierownicy              553\n",
       "elektrycznie-ustawiane-lusterka     579\n",
       "poduszka-powietrzna-pasazera        580\n",
       "liczba-miejsc                       669\n",
       "radio-fabryczne                     719\n",
       "immobilizer                         748\n",
       "naped                               807\n",
       "alufelgi                            891\n",
       "cd                                 1121\n",
       "wielofunkcyjna-kierownica          1151\n",
       "elektryczne-szyby-tylne            1266\n",
       "esp-stabilizacja-toru-jazdy        1482\n",
       "asr-kontrola-trakcji               1585\n",
       "komputer-pokladowy                 1635\n",
       "klimatyzacja-automatyczna          1645\n",
       "isofix                             1789\n",
       "poduszki-boczne-przednie           1983\n",
       "metalik                            2060\n",
       "kurtyny-powietrzne                 2093\n",
       "swiatla-przeciwmgielne             2120\n",
       "generacja                          2137\n",
       "tempomat                           2152\n",
       "czujnik-deszczu                    2158\n",
       "podgrzewane-lusterka-boczne        2191\n",
       "kraj-pochodzenia                   2310\n",
       "dtype: int64"
      ]
     },
     "execution_count": 7,
     "metadata": {},
     "output_type": "execute_result"
    }
   ],
   "source": [
    "# total number of null values in a dataset\n",
    "mazda.isnull().sum().sort_values().nsmallest(50)"
   ]
  },
  {
   "cell_type": "markdown",
   "metadata": {},
   "source": [
    "### cleaning the dataset"
   ]
  },
  {
   "cell_type": "code",
   "execution_count": 8,
   "metadata": {},
   "outputs": [
    {
     "data": {
      "text/plain": [
       "id\n",
       "6072674940    2\n",
       "6075460357    2\n",
       "6075175003    2\n",
       "6073191073    2\n",
       "6072816287    2\n",
       "6075276378    2\n",
       "6074653679    2\n",
       "6072216279    2\n",
       "6069510879    2\n",
       "6075045583    2\n",
       "6069082583    2\n",
       "6074724900    2\n",
       "6055813243    2\n",
       "6072099941    2\n",
       "6071448675    2\n",
       "6075122560    2\n",
       "6074508763    2\n",
       "6074959197    2\n",
       "6074805202    2\n",
       "6074458473    2\n",
       "6075072967    2\n",
       "6074989769    2\n",
       "6075457532    2\n",
       "6075157147    2\n",
       "6075177242    2\n",
       "6066963564    2\n",
       "6072084372    2\n",
       "6074868473    2\n",
       "6075156260    2\n",
       "6074381194    2\n",
       "6073073111    2\n",
       "6075443961    2\n",
       "6074793241    2\n",
       "6065498697    2\n",
       "6075571822    2\n",
       "6075541268    2\n",
       "6075500861    2\n",
       "6075541285    2\n",
       "6075605223    2\n",
       "6073625288    2\n",
       "6075548305    2\n",
       "6075512877    2\n",
       "6068114471    2\n",
       "6072756767    2\n",
       "6075035248    2\n",
       "6073436328    2\n",
       "6074249734    2\n",
       "6074475741    2\n",
       "6074295173    2\n",
       "6074484285    2\n",
       "Name: www, dtype: int64"
      ]
     },
     "execution_count": 8,
     "metadata": {},
     "output_type": "execute_result"
    }
   ],
   "source": [
    "# duplicate values (ID)\n",
    "mazda.groupby('id')['www'].nunique().sort_values(ascending=False).nlargest(50)"
   ]
  },
  {
   "cell_type": "code",
   "execution_count": 9,
   "metadata": {},
   "outputs": [
    {
     "data": {
      "text/plain": [
       "array(['https://www.otomoto.pl/oferta/mazda-2-1-5-didskyactive1-wlklimaserwisbezwypadkowygwarancja-ID6BPzF9.html#efc7880678',\n",
       "       'https://www.otomoto.pl/oferta/mazda-2-1-5-didskyactive1-wlklimaserwisbezwypadkowygwarancja-ID6BPzF9.html#6386efe33f'],\n",
       "      dtype=object)"
      ]
     },
     "execution_count": 9,
     "metadata": {},
     "output_type": "execute_result"
    }
   ],
   "source": [
    "# the same announcement but other link\n",
    "mazda['www'].loc[(mazda['id'] == 6055813243)].unique()"
   ]
  },
  {
   "cell_type": "code",
   "execution_count": 10,
   "metadata": {},
   "outputs": [
    {
     "data": {
      "text/html": [
       "<div>\n",
       "<style scoped>\n",
       "    .dataframe tbody tr th:only-of-type {\n",
       "        vertical-align: middle;\n",
       "    }\n",
       "\n",
       "    .dataframe tbody tr th {\n",
       "        vertical-align: top;\n",
       "    }\n",
       "\n",
       "    .dataframe thead th {\n",
       "        text-align: right;\n",
       "    }\n",
       "</style>\n",
       "<table border=\"1\" class=\"dataframe\">\n",
       "  <thead>\n",
       "    <tr style=\"text-align: right;\">\n",
       "      <th></th>\n",
       "      <th>www</th>\n",
       "      <th>id</th>\n",
       "      <th>data-dodania</th>\n",
       "    </tr>\n",
       "  </thead>\n",
       "  <tbody>\n",
       "    <tr>\n",
       "      <th>1909</th>\n",
       "      <td>https://www.otomoto.pl/oferta/mazda-2-1-5-dids...</td>\n",
       "      <td>6055813243</td>\n",
       "      <td>11:34, 21 czerwca 2020</td>\n",
       "    </tr>\n",
       "    <tr>\n",
       "      <th>1910</th>\n",
       "      <td>https://www.otomoto.pl/oferta/mazda-2-1-5-dids...</td>\n",
       "      <td>6055813243</td>\n",
       "      <td>11:34, 21 czerwca 2020</td>\n",
       "    </tr>\n",
       "  </tbody>\n",
       "</table>\n",
       "</div>"
      ],
      "text/plain": [
       "                                                    www          id  \\\n",
       "1909  https://www.otomoto.pl/oferta/mazda-2-1-5-dids...  6055813243   \n",
       "1910  https://www.otomoto.pl/oferta/mazda-2-1-5-dids...  6055813243   \n",
       "\n",
       "                data-dodania  \n",
       "1909  11:34, 21 czerwca 2020  \n",
       "1910  11:34, 21 czerwca 2020  "
      ]
     },
     "execution_count": 10,
     "metadata": {},
     "output_type": "execute_result"
    }
   ],
   "source": [
    "mazda[['www','id','data-dodania']].loc[(mazda['id'] == 6055813243)]"
   ]
  },
  {
   "cell_type": "markdown",
   "metadata": {},
   "source": [
    "##### deduplication - first option"
   ]
  },
  {
   "cell_type": "code",
   "execution_count": 11,
   "metadata": {},
   "outputs": [
    {
     "data": {
      "text/plain": [
       "1909     True\n",
       "1910    False\n",
       "dtype: bool"
      ]
     },
     "execution_count": 11,
     "metadata": {},
     "output_type": "execute_result"
    }
   ],
   "source": [
    "mazda.loc[(mazda['id'] == 6055813243)].duplicated(keep='last', subset=['id'])"
   ]
  },
  {
   "cell_type": "code",
   "execution_count": 12,
   "metadata": {},
   "outputs": [
    {
     "data": {
      "text/plain": [
       "1910     True\n",
       "1909    False\n",
       "3159    False\n",
       "dtype: bool"
      ]
     },
     "execution_count": 12,
     "metadata": {},
     "output_type": "execute_result"
    }
   ],
   "source": [
    "# sort befor choose redundant row - if it's necessary\n",
    "mazda.sort_values(by=['www'], inplace=True) # 'data-dodania' are the same, for example I choose 'www'\n",
    "mazda.loc[(mazda['id'] == 6055813243) | (mazda['id'] == 4033983230)].duplicated(keep='last', subset=['id'])"
   ]
  },
  {
   "cell_type": "code",
   "execution_count": 13,
   "metadata": {},
   "outputs": [
    {
     "data": {
      "text/plain": [
       "id     5661\n",
       "www    5661\n",
       "dtype: int64"
      ]
     },
     "execution_count": 13,
     "metadata": {},
     "output_type": "execute_result"
    }
   ],
   "source": [
    "clean_dataset1 = mazda.loc[mazda.duplicated(keep='last', subset=['id'])== False]\n",
    "# Is it ok now ?\n",
    "clean_dataset1.nunique().sort_values().nlargest(2)\n",
    "# unique values in 'www' = unique values in 'id'"
   ]
  },
  {
   "cell_type": "markdown",
   "metadata": {},
   "source": [
    "##### deduplication - second option"
   ]
  },
  {
   "cell_type": "code",
   "execution_count": 14,
   "metadata": {},
   "outputs": [
    {
     "data": {
      "text/plain": [
       "id     5661\n",
       "www    5661\n",
       "dtype: int64"
      ]
     },
     "execution_count": 14,
     "metadata": {},
     "output_type": "execute_result"
    }
   ],
   "source": [
    "clean_dataset2 = mazda.drop(mazda.loc[mazda.duplicated(keep='last', subset=['id'])== True].index)\n",
    "# Is it ok now ?\n",
    "clean_dataset2.nunique().sort_values().nlargest(2)\n",
    "# unique values in 'www' = unique values in 'id'"
   ]
  },
  {
   "cell_type": "markdown",
   "metadata": {},
   "source": [
    "##### deduplication - third option"
   ]
  },
  {
   "cell_type": "code",
   "execution_count": 15,
   "metadata": {},
   "outputs": [
    {
     "data": {
      "text/plain": [
       "id     5661\n",
       "www    5661\n",
       "dtype: int64"
      ]
     },
     "execution_count": 15,
     "metadata": {},
     "output_type": "execute_result"
    }
   ],
   "source": [
    "mazda.drop_duplicates(subset =\"id\", keep ='last', inplace = True) \n",
    "# Is it ok now ?\n",
    "mazda.nunique().sort_values().nlargest(2)\n",
    "# unique values in 'www' = unique values in 'id'"
   ]
  },
  {
   "cell_type": "markdown",
   "metadata": {},
   "source": [
    "##### cleaning float values"
   ]
  },
  {
   "cell_type": "code",
   "execution_count": 16,
   "metadata": {},
   "outputs": [
    {
     "data": {
      "text/plain": [
       "array(['1 299 cm3', '1 242 cm3', '1 349 cm3', '1 388 cm3', '1 300 cm3',\n",
       "       '1 350 cm3', '1 250 cm3', '1 400 cm3', '1 399 cm3', '1 380 cm3',\n",
       "       nan, '1 498 cm3', '1 496 cm3', '1 493 cm3', '1 500 cm3',\n",
       "       '1 495 cm3', '1 499 cm3', '1 490 cm3', '1 596 cm3', '1 600 cm3',\n",
       "       '1 569 cm3', '1 560 cm3', '1 348 cm3', '1 367 cm3', '1 364 cm3',\n",
       "       '1 598 cm3', '1 599 cm3', '1 579 cm3', '1 998 cm3', '2 000 cm3',\n",
       "       '1 999 cm3', '2 500 cm3', '2 198 cm3', '1 997 cm3', '2 191 cm3',\n",
       "       '2 200 cm3', '2 184 cm3', '2 300 cm3', '2 261 cm3', '2 488 cm3',\n",
       "       '2 499 cm3', '1 589 cm3', '1 849 cm3', '2 497 cm3', '2 260 cm3',\n",
       "       '1 988 cm3', '2 192 cm3', '2 448 cm3', '1 595 cm3', '1 995 cm3',\n",
       "       '2 180 cm3', '1 996 cm3', '2 498 cm3', '1 296 cm3', '1 324 cm3',\n",
       "       '1 585 cm3', '1 840 cm3', '1 071 cm3', '1 489 cm3', '1 800 cm3',\n",
       "       '1 798 cm3', '1 989 cm3', '1 610 cm3', '1 950 cm3', '1 893 cm3',\n",
       "       '2 319 cm3', '1 568 cm3', '2 187 cm3', '1 991 cm3', '1 990 cm3',\n",
       "       '2 189 cm3', '2 183 cm3', '2 190 cm3', '2 967 cm3', '2 197 cm3',\n",
       "       '2 489 cm3', '2 169 cm3', '1 799 cm3', '2 493 cm3', '3 000 cm3',\n",
       "       '2 968 cm3', '2 507 cm3', '2 490 cm3', '1 796 cm3', '1 983 cm3',\n",
       "       '1 759 cm3', '1 788 cm3', '2 121 cm3', '2 450 cm3', '1 200 cm3',\n",
       "       '2 193 cm3', '2 495 cm3', '2 291 cm3', '2 186 cm3', '2 278 cm3',\n",
       "       '2 298 cm3', '2 814 cm3', '2 196 cm3', '2 195 cm3', '3 700 cm3',\n",
       "       '3 726 cm3', '1 323 cm3', '1 597 cm3', '1 590 cm3', '1 814 cm3',\n",
       "       '1 900 cm3', '1 330 cm3', '1 308 cm3', '1 304 cm3'], dtype=object)"
      ]
     },
     "execution_count": 16,
     "metadata": {},
     "output_type": "execute_result"
    }
   ],
   "source": [
    "mazda['pojemnosc-skokowa'].unique()"
   ]
  },
  {
   "cell_type": "code",
   "execution_count": 17,
   "metadata": {},
   "outputs": [],
   "source": [
    "mazda['cena'].replace({'EUR': ''},regex=True, inplace=True)\n",
    "mazda['cena'].replace({',': '.'},regex=True, inplace=True)\n",
    "mazda['cena'] = mazda['cena'].astype('float')\n",
    "mazda['moc'].replace({'KM': ''},regex=True, inplace=True)\n",
    "mazda['moc'] = mazda['moc'].astype('float')\n",
    "mazda['przebieg'].replace({'km': ''},regex=True, inplace=True)\n",
    "mazda['przebieg'].replace({' ': ''},regex=True, inplace=True)\n",
    "mazda['przebieg'] = mazda['przebieg'].astype('float')\n",
    "mazda['pojemnosc-skokowa'].replace({'cm3': ''},regex=True, inplace=True)\n",
    "mazda['pojemnosc-skokowa'].replace({' ': ''},regex=True, inplace=True)\n",
    "mazda['pojemnosc-skokowa'] = mazda['pojemnosc-skokowa'].astype('float')"
   ]
  },
  {
   "cell_type": "code",
   "execution_count": 18,
   "metadata": {},
   "outputs": [
    {
     "data": {
      "text/html": [
       "<div>\n",
       "<style scoped>\n",
       "    .dataframe tbody tr th:only-of-type {\n",
       "        vertical-align: middle;\n",
       "    }\n",
       "\n",
       "    .dataframe tbody tr th {\n",
       "        vertical-align: top;\n",
       "    }\n",
       "\n",
       "    .dataframe thead th {\n",
       "        text-align: right;\n",
       "    }\n",
       "</style>\n",
       "<table border=\"1\" class=\"dataframe\">\n",
       "  <thead>\n",
       "    <tr style=\"text-align: right;\">\n",
       "      <th></th>\n",
       "      <th>cena</th>\n",
       "      <th>rok-produkcji</th>\n",
       "      <th>moc</th>\n",
       "      <th>przebieg</th>\n",
       "      <th>pojemnosc-skokowa</th>\n",
       "    </tr>\n",
       "  </thead>\n",
       "  <tbody>\n",
       "    <tr>\n",
       "      <th>count</th>\n",
       "      <td>5661.000000</td>\n",
       "      <td>5661.000000</td>\n",
       "      <td>5540.000000</td>\n",
       "      <td>5.661000e+03</td>\n",
       "      <td>5576.000000</td>\n",
       "    </tr>\n",
       "    <tr>\n",
       "      <th>mean</th>\n",
       "      <td>51561.784160</td>\n",
       "      <td>2012.275216</td>\n",
       "      <td>144.823646</td>\n",
       "      <td>1.146434e+05</td>\n",
       "      <td>1986.274749</td>\n",
       "    </tr>\n",
       "    <tr>\n",
       "      <th>std</th>\n",
       "      <td>41837.963194</td>\n",
       "      <td>5.569782</td>\n",
       "      <td>37.736984</td>\n",
       "      <td>8.728303e+04</td>\n",
       "      <td>336.923200</td>\n",
       "    </tr>\n",
       "    <tr>\n",
       "      <th>min</th>\n",
       "      <td>820.000000</td>\n",
       "      <td>1978.000000</td>\n",
       "      <td>1.000000</td>\n",
       "      <td>1.000000e+00</td>\n",
       "      <td>1071.000000</td>\n",
       "    </tr>\n",
       "    <tr>\n",
       "      <th>25%</th>\n",
       "      <td>16900.000000</td>\n",
       "      <td>2008.000000</td>\n",
       "      <td>120.000000</td>\n",
       "      <td>2.910000e+04</td>\n",
       "      <td>1800.000000</td>\n",
       "    </tr>\n",
       "    <tr>\n",
       "      <th>50%</th>\n",
       "      <td>38990.000000</td>\n",
       "      <td>2013.000000</td>\n",
       "      <td>145.000000</td>\n",
       "      <td>1.163350e+05</td>\n",
       "      <td>1998.000000</td>\n",
       "    </tr>\n",
       "    <tr>\n",
       "      <th>75%</th>\n",
       "      <td>76600.000000</td>\n",
       "      <td>2017.000000</td>\n",
       "      <td>165.000000</td>\n",
       "      <td>1.820000e+05</td>\n",
       "      <td>2000.000000</td>\n",
       "    </tr>\n",
       "    <tr>\n",
       "      <th>max</th>\n",
       "      <td>196700.000000</td>\n",
       "      <td>2020.000000</td>\n",
       "      <td>320.000000</td>\n",
       "      <td>1.240000e+06</td>\n",
       "      <td>3726.000000</td>\n",
       "    </tr>\n",
       "  </tbody>\n",
       "</table>\n",
       "</div>"
      ],
      "text/plain": [
       "                cena  rok-produkcji          moc      przebieg  \\\n",
       "count    5661.000000    5661.000000  5540.000000  5.661000e+03   \n",
       "mean    51561.784160    2012.275216   144.823646  1.146434e+05   \n",
       "std     41837.963194       5.569782    37.736984  8.728303e+04   \n",
       "min       820.000000    1978.000000     1.000000  1.000000e+00   \n",
       "25%     16900.000000    2008.000000   120.000000  2.910000e+04   \n",
       "50%     38990.000000    2013.000000   145.000000  1.163350e+05   \n",
       "75%     76600.000000    2017.000000   165.000000  1.820000e+05   \n",
       "max    196700.000000    2020.000000   320.000000  1.240000e+06   \n",
       "\n",
       "       pojemnosc-skokowa  \n",
       "count        5576.000000  \n",
       "mean         1986.274749  \n",
       "std           336.923200  \n",
       "min          1071.000000  \n",
       "25%          1800.000000  \n",
       "50%          1998.000000  \n",
       "75%          2000.000000  \n",
       "max          3726.000000  "
      ]
     },
     "execution_count": 18,
     "metadata": {},
     "output_type": "execute_result"
    }
   ],
   "source": [
    "mazda[['cena', 'rok-produkcji', 'moc', 'przebieg', 'pojemnosc-skokowa']].describe() "
   ]
  },
  {
   "cell_type": "code",
   "execution_count": 19,
   "metadata": {},
   "outputs": [],
   "source": [
    "mazda.to_json(r'C:\\...\\dataset_mazda.json')"
   ]
  },
  {
   "cell_type": "code",
   "execution_count": null,
   "metadata": {},
   "outputs": [],
   "source": [
    "## other way to identify duplicated values\n",
    "mazda[mazda.duplicated(subset='id', keep=False)]. sort_values ('id') "
   ]
  }
 ],
 "metadata": {
  "kernelspec": {
   "display_name": "Python 3",
   "language": "python",
   "name": "python3"
  },
  "language_info": {
   "codemirror_mode": {
    "name": "ipython",
    "version": 3
   },
   "file_extension": ".py",
   "mimetype": "text/x-python",
   "name": "python",
   "nbconvert_exporter": "python",
   "pygments_lexer": "ipython3",
   "version": "3.7.3"
  }
 },
 "nbformat": 4,
 "nbformat_minor": 2
}
